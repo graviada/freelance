{
 "cells": [
  {
   "cell_type": "code",
   "execution_count": 1,
   "metadata": {},
   "outputs": [
    {
     "data": {
      "text/plain": [
       "<Figure size 792x504 with 0 Axes>"
      ]
     },
     "metadata": {},
     "output_type": "display_data"
    }
   ],
   "source": [
    "import pandas.io.sql as psql\n",
    "import psycopg2\n",
    "import pandas as pd\n",
    "import numpy as np\n",
    "\n",
    "import seaborn as sns\n",
    "from seaborn import heatmap\n",
    "import matplotlib.pyplot as plt\n",
    "\n",
    "from sklearn.model_selection import train_test_split, cross_validate\n",
    "from sklearn.linear_model import LinearRegression\n",
    "from sklearn.metrics import mean_absolute_error\n",
    "\n",
    "plt.rcParams['figure.figsize'] = 11, 7\n",
    "plt.rcParams['axes.grid'] = True\n",
    "plt.pink()"
   ]
  },
  {
   "cell_type": "code",
   "execution_count": 2,
   "metadata": {},
   "outputs": [],
   "source": [
    "DB_HOST = \"localhost\"\n",
    "DB_NAME = \"dom.rf_db\"\n",
    "DB_USER = \"postgres\"\n",
    "DB_PASS = \"1234\"\n",
    "\n",
    "conn = psycopg2.connect(dbname=DB_NAME, user=DB_USER, password=DB_PASS, host=DB_HOST)"
   ]
  },
  {
   "cell_type": "code",
   "execution_count": 3,
   "metadata": {},
   "outputs": [
    {
     "data": {
      "text/html": [
       "<div>\n",
       "<style scoped>\n",
       "    .dataframe tbody tr th:only-of-type {\n",
       "        vertical-align: middle;\n",
       "    }\n",
       "\n",
       "    .dataframe tbody tr th {\n",
       "        vertical-align: top;\n",
       "    }\n",
       "\n",
       "    .dataframe thead th {\n",
       "        text-align: right;\n",
       "    }\n",
       "</style>\n",
       "<table border=\"1\" class=\"dataframe\">\n",
       "  <thead>\n",
       "    <tr style=\"text-align: right;\">\n",
       "      <th></th>\n",
       "      <th>obj_id</th>\n",
       "      <th>dev_id</th>\n",
       "      <th>obj_addr</th>\n",
       "      <th>obj_floor_min</th>\n",
       "      <th>obj_floor_max</th>\n",
       "      <th>obj_completion_date</th>\n",
       "      <th>objsquareliving</th>\n",
       "      <th>latitude</th>\n",
       "      <th>longitude</th>\n",
       "      <th>build_type</th>\n",
       "    </tr>\n",
       "  </thead>\n",
       "  <tbody>\n",
       "    <tr>\n",
       "      <th>0</th>\n",
       "      <td>13383</td>\n",
       "      <td>306</td>\n",
       "      <td>г Тюмень</td>\n",
       "      <td>4</td>\n",
       "      <td>20</td>\n",
       "      <td>2022-12-31</td>\n",
       "      <td>6293.78</td>\n",
       "      <td>57.1519</td>\n",
       "      <td>65.5536</td>\n",
       "      <td>Жилое</td>\n",
       "    </tr>\n",
       "    <tr>\n",
       "      <th>1</th>\n",
       "      <td>13397</td>\n",
       "      <td>306</td>\n",
       "      <td>г Тюмень, ул Профсоюзная, д. 56</td>\n",
       "      <td>6</td>\n",
       "      <td>12</td>\n",
       "      <td>2024-12-31</td>\n",
       "      <td>6248.51</td>\n",
       "      <td>57.1519</td>\n",
       "      <td>65.5544</td>\n",
       "      <td>Жилое</td>\n",
       "    </tr>\n",
       "    <tr>\n",
       "      <th>2</th>\n",
       "      <td>13399</td>\n",
       "      <td>306</td>\n",
       "      <td>г Тюмень, ул Профсоюзная, д. 56</td>\n",
       "      <td>1</td>\n",
       "      <td>1</td>\n",
       "      <td>2024-12-31</td>\n",
       "      <td>0.00</td>\n",
       "      <td>57.1519</td>\n",
       "      <td>65.5544</td>\n",
       "      <td>Нежилое</td>\n",
       "    </tr>\n",
       "  </tbody>\n",
       "</table>\n",
       "</div>"
      ],
      "text/plain": [
       "   obj_id  dev_id                         obj_addr  obj_floor_min  \\\n",
       "0   13383     306                         г Тюмень              4   \n",
       "1   13397     306  г Тюмень, ул Профсоюзная, д. 56              6   \n",
       "2   13399     306  г Тюмень, ул Профсоюзная, д. 56              1   \n",
       "\n",
       "   obj_floor_max obj_completion_date  objsquareliving  latitude  longitude  \\\n",
       "0             20          2022-12-31          6293.78   57.1519    65.5536   \n",
       "1             12          2024-12-31          6248.51   57.1519    65.5544   \n",
       "2              1          2024-12-31             0.00   57.1519    65.5544   \n",
       "\n",
       "  build_type  \n",
       "0      Жилое  \n",
       "1      Жилое  \n",
       "2    Нежилое  "
      ]
     },
     "execution_count": 3,
     "metadata": {},
     "output_type": "execute_result"
    }
   ],
   "source": [
    "# Выгружаем таблицу новостроек\n",
    "new_buildings = psql.read_sql('SELECT * FROM new_building', conn)\n",
    "new_buildings.head(3)"
   ]
  },
  {
   "cell_type": "code",
   "execution_count": 4,
   "metadata": {},
   "outputs": [
    {
     "data": {
      "text/plain": [
       "(10345, 10)"
      ]
     },
     "execution_count": 4,
     "metadata": {},
     "output_type": "execute_result"
    }
   ],
   "source": [
    "new_buildings.shape"
   ]
  },
  {
   "cell_type": "code",
   "execution_count": 5,
   "metadata": {},
   "outputs": [
    {
     "data": {
      "text/html": [
       "<div>\n",
       "<style scoped>\n",
       "    .dataframe tbody tr th:only-of-type {\n",
       "        vertical-align: middle;\n",
       "    }\n",
       "\n",
       "    .dataframe tbody tr th {\n",
       "        vertical-align: top;\n",
       "    }\n",
       "\n",
       "    .dataframe thead th {\n",
       "        text-align: right;\n",
       "    }\n",
       "</style>\n",
       "<table border=\"1\" class=\"dataframe\">\n",
       "  <thead>\n",
       "    <tr style=\"text-align: right;\">\n",
       "      <th></th>\n",
       "      <th>dev_id</th>\n",
       "      <th>dev_short_name</th>\n",
       "      <th>build_obj</th>\n",
       "      <th>comiss_obj</th>\n",
       "      <th>dev_site</th>\n",
       "      <th>dev_fact_addr</th>\n",
       "      <th>dev_region_code</th>\n",
       "    </tr>\n",
       "  </thead>\n",
       "  <tbody>\n",
       "    <tr>\n",
       "      <th>0</th>\n",
       "      <td>7424</td>\n",
       "      <td>212-2</td>\n",
       "      <td>0</td>\n",
       "      <td>0</td>\n",
       "      <td>taganrogjsk.wixsite.com</td>\n",
       "      <td>обл Ростовская город Таганрог улица Сергея Шил...</td>\n",
       "      <td>61</td>\n",
       "    </tr>\n",
       "    <tr>\n",
       "      <th>1</th>\n",
       "      <td>306</td>\n",
       "      <td>2МЕН ГРУПП</td>\n",
       "      <td>5</td>\n",
       "      <td>0</td>\n",
       "      <td>2mengroup.ru</td>\n",
       "      <td>Тюменская область, город Тюмень, улица Комсомо...</td>\n",
       "      <td>72</td>\n",
       "    </tr>\n",
       "    <tr>\n",
       "      <th>2</th>\n",
       "      <td>8382</td>\n",
       "      <td>79/23</td>\n",
       "      <td>0</td>\n",
       "      <td>0</td>\n",
       "      <td>www.наш.дом.рф</td>\n",
       "      <td>обл Волгоградская, г Волжский, улица Им Космон...</td>\n",
       "      <td>34</td>\n",
       "    </tr>\n",
       "  </tbody>\n",
       "</table>\n",
       "</div>"
      ],
      "text/plain": [
       "   dev_id dev_short_name  build_obj  comiss_obj                 dev_site  \\\n",
       "0    7424          212-2          0           0  taganrogjsk.wixsite.com   \n",
       "1     306     2МЕН ГРУПП          5           0             2mengroup.ru   \n",
       "2    8382          79/23          0           0           www.наш.дом.рф   \n",
       "\n",
       "                                       dev_fact_addr  dev_region_code  \n",
       "0  обл Ростовская город Таганрог улица Сергея Шил...               61  \n",
       "1  Тюменская область, город Тюмень, улица Комсомо...               72  \n",
       "2  обл Волгоградская, г Волжский, улица Им Космон...               34  "
      ]
     },
     "execution_count": 5,
     "metadata": {},
     "output_type": "execute_result"
    }
   ],
   "source": [
    "reestr = psql.read_sql('SELECT * FROM reestr', conn)\n",
    "reestr.head(3)"
   ]
  },
  {
   "cell_type": "code",
   "execution_count": 6,
   "metadata": {},
   "outputs": [
    {
     "data": {
      "text/plain": [
       "(4399, 7)"
      ]
     },
     "execution_count": 6,
     "metadata": {},
     "output_type": "execute_result"
    }
   ],
   "source": [
    "reestr.shape"
   ]
  },
  {
   "cell_type": "markdown",
   "metadata": {},
   "source": [
    "Проверять на наличие дубликатов и пустых значений не имеет смысла, т. к. это было проделано на предыдущем шаге. Сейчас мы сразу можем перейти к разведочному анализу данных (EDA).\n",
    "\n",
    "## Разведочный анализ данных\n",
    "### Таблица new_buildings"
   ]
  },
  {
   "cell_type": "markdown",
   "metadata": {},
   "source": [
    "Так как явного задания у нас нет, возможно представить в качестве целевой переменной площадь объекта (**objsquareliving**)."
   ]
  },
  {
   "cell_type": "code",
   "execution_count": 7,
   "metadata": {},
   "outputs": [
    {
     "data": {
      "text/plain": [
       "count     10345.000000\n",
       "mean       9436.425759\n",
       "std       11389.007008\n",
       "min           0.000000\n",
       "25%        2131.200000\n",
       "50%        6482.510000\n",
       "75%       12442.800000\n",
       "max      142978.700000\n",
       "Name: objsquareliving, dtype: float64"
      ]
     },
     "execution_count": 7,
     "metadata": {},
     "output_type": "execute_result"
    }
   ],
   "source": [
    "# Основные статистики для квадратной площади объекта\n",
    "new_buildings['objsquareliving'].describe()"
   ]
  },
  {
   "cell_type": "code",
   "execution_count": 8,
   "metadata": {},
   "outputs": [
    {
     "data": {
      "text/plain": [
       "count    10345.000000\n",
       "mean        10.513581\n",
       "std          7.758938\n",
       "min          0.000000\n",
       "25%          4.000000\n",
       "50%          9.000000\n",
       "75%         16.000000\n",
       "max         76.000000\n",
       "Name: obj_floor_min, dtype: float64"
      ]
     },
     "execution_count": 8,
     "metadata": {},
     "output_type": "execute_result"
    }
   ],
   "source": [
    "new_buildings['obj_floor_min'].describe()"
   ]
  },
  {
   "cell_type": "markdown",
   "metadata": {},
   "source": [
    "Здесь мы видим экстремально большую разницу между 75-ым перцентилем и максимумом. Это говорит нам о наличии выбросов."
   ]
  },
  {
   "cell_type": "code",
   "execution_count": 9,
   "metadata": {},
   "outputs": [
    {
     "data": {
      "text/plain": [
       "count    10345.000000\n",
       "mean        12.534171\n",
       "std          8.434545\n",
       "min          0.000000\n",
       "25%          5.000000\n",
       "50%         11.000000\n",
       "75%         18.000000\n",
       "max         76.000000\n",
       "Name: obj_floor_max, dtype: float64"
      ]
     },
     "execution_count": 9,
     "metadata": {},
     "output_type": "execute_result"
    }
   ],
   "source": [
    "new_buildings['obj_floor_max'].describe()"
   ]
  },
  {
   "cell_type": "markdown",
   "metadata": {},
   "source": [
    "Та же тенденция с выбросами прослеживается и здесь."
   ]
  },
  {
   "cell_type": "markdown",
   "metadata": {},
   "source": [
    "**Посмотрим на некоторые гистограммы**:\n",
    "\n",
    "1. Соотношение категорий жилых и нежилых домов"
   ]
  },
  {
   "cell_type": "code",
   "execution_count": 10,
   "metadata": {},
   "outputs": [
    {
     "data": {
      "image/png": "[encoded data removed]",
      "text/plain": [
       "<Figure size 576x504 with 1 Axes>"
      ]
     },
     "metadata": {
      "needs_background": "light"
     },
     "output_type": "display_data"
    }
   ],
   "source": [
    "# Посмотрим распределение значений в переменной build_type\n",
    "norm_target = (new_buildings\n",
    "               .build_type\n",
    "               .value_counts(normalize=True)\n",
    "               .mul(100)\n",
    "               .rename('percent')\n",
    "               .reset_index())\n",
    "\n",
    "plt.figure(figsize=(8, 7))\n",
    "ax = sns.barplot(x='index', y='percent', data=norm_target)\n",
    "\n",
    "# Вывод значений над графиками - annotate()\n",
    "# В цикле смотрим каждый столбец графика и на нем отмечаем значения\n",
    "for p in ax.patches:\n",
    "    percentage = '{:.1f}%'.format(p.get_height())\n",
    "    ax.annotate(percentage,  # текст\n",
    "                (p.get_x() + p.get_width() / 2., p.get_height()),  # координата xy\n",
    "                ha='center', # центрирование\n",
    "                va='center',\n",
    "                xytext=(0, 9),\n",
    "                textcoords='offset points', # точка смещения относительно координаты\n",
    "                fontsize=14)\n",
    "\n",
    "plt.title('Соотношение жилых (синий) и нежилых (оранжевый) \\n объектов \\n', fontsize=14)\n",
    "plt.xlabel('', fontsize=14)\n",
    "plt.ylabel('', fontsize=14)\n",
    "plt.xticks(fontsize=14)\n",
    "plt.yticks(fontsize=14);"
   ]
  },
  {
   "cell_type": "markdown",
   "metadata": {},
   "source": [
    "Как видим, жилых объектов в данной выборке большинство. Застройщики ориентированы на физических лиц.\n",
    "\n",
    "Теперь оценим взаимную корреляцию признаков."
   ]
  },
  {
   "cell_type": "code",
   "execution_count": 11,
   "metadata": {},
   "outputs": [
    {
     "data": {
      "text/plain": [
       "<matplotlib.axes._subplots.AxesSubplot at 0x1c2d0e037c8>"
      ]
     },
     "execution_count": 11,
     "metadata": {},
     "output_type": "execute_result"
    },
    {
     "data": {
      "image/png": "[encoded data removed]",
      "text/plain": [
       "<Figure size 792x504 with 2 Axes>"
      ]
     },
     "metadata": {
      "needs_background": "light"
     },
     "output_type": "display_data"
    }
   ],
   "source": [
    "heatmap(new_buildings.corr(), annot=True)"
   ]
  },
  {
   "cell_type": "markdown",
   "metadata": {},
   "source": [
    "С целевой переменной (**objsquareliving**) наиболее сильно коррелирует атрибут, отвечающий за количество этажей в новостройке.\n",
    "\n",
    "Посмотрим отдельно разброс значений данной переменной относительно целевой."
   ]
  },
  {
   "cell_type": "code",
   "execution_count": 12,
   "metadata": {},
   "outputs": [
    {
     "data": {
      "image/png": "[encoded data removed]",
      "text/plain": [
       "<Figure size 792x504 with 1 Axes>"
      ]
     },
     "metadata": {
      "needs_background": "light"
     },
     "output_type": "display_data"
    }
   ],
   "source": [
    "plt.scatter(x=new_buildings['obj_floor_max'], y=new_buildings['objsquareliving'])\n",
    "plt.xlabel(\"Количество этажей (longitude)\")\n",
    "plt.ylabel(\"Общая площадь объекта (latitude)\")\n",
    "plt.show()"
   ]
  },
  {
   "cell_type": "markdown",
   "metadata": {},
   "source": [
    "### Таблица reestr\n",
    "Поработаем с таблицей застройщиков.\n",
    "1. Посмотрим метрики, связанные с построенными объектами (build_obj).\n",
    "2. Посмотрим, какие регионы встречаются чаще всех."
   ]
  },
  {
   "cell_type": "code",
   "execution_count": 13,
   "metadata": {},
   "outputs": [
    {
     "data": {
      "text/plain": [
       "count    4399.000000\n",
       "mean        2.353489\n",
       "std         4.933328\n",
       "min         0.000000\n",
       "25%         1.000000\n",
       "50%         1.000000\n",
       "75%         2.000000\n",
       "max       148.000000\n",
       "Name: build_obj, dtype: float64"
      ]
     },
     "execution_count": 13,
     "metadata": {},
     "output_type": "execute_result"
    }
   ],
   "source": [
    "# 1\n",
    "reestr['build_obj'].describe()"
   ]
  },
  {
   "cell_type": "markdown",
   "metadata": {},
   "source": [
    "Здесь явные выбросы - какие-то компании являются \"рекордсменами\" по застройке."
   ]
  },
  {
   "cell_type": "code",
   "execution_count": 14,
   "metadata": {},
   "outputs": [
    {
     "data": {
      "text/plain": [
       "0    77\n",
       "dtype: int64"
      ]
     },
     "execution_count": 14,
     "metadata": {},
     "output_type": "execute_result"
    }
   ],
   "source": [
    "# 2\n",
    "reestr['dev_region_code'].mode()"
   ]
  },
  {
   "cell_type": "markdown",
   "metadata": {},
   "source": [
    "Подгрузим таблицу с регионами и выведем 10 наиболее часто встречающихся регионов по застройщикам."
   ]
  },
  {
   "cell_type": "code",
   "execution_count": 15,
   "metadata": {},
   "outputs": [
    {
     "data": {
      "text/html": [
       "<div>\n",
       "<style scoped>\n",
       "    .dataframe tbody tr th:only-of-type {\n",
       "        vertical-align: middle;\n",
       "    }\n",
       "\n",
       "    .dataframe tbody tr th {\n",
       "        vertical-align: top;\n",
       "    }\n",
       "\n",
       "    .dataframe thead th {\n",
       "        text-align: right;\n",
       "    }\n",
       "</style>\n",
       "<table border=\"1\" class=\"dataframe\">\n",
       "  <thead>\n",
       "    <tr style=\"text-align: right;\">\n",
       "      <th></th>\n",
       "      <th>region_code</th>\n",
       "      <th>region_name</th>\n",
       "    </tr>\n",
       "  </thead>\n",
       "  <tbody>\n",
       "    <tr>\n",
       "      <th>0</th>\n",
       "      <td>61</td>\n",
       "      <td>Ростовская область</td>\n",
       "    </tr>\n",
       "    <tr>\n",
       "      <th>1</th>\n",
       "      <td>72</td>\n",
       "      <td>Тюменская область</td>\n",
       "    </tr>\n",
       "    <tr>\n",
       "      <th>2</th>\n",
       "      <td>34</td>\n",
       "      <td>Волгоградская область</td>\n",
       "    </tr>\n",
       "  </tbody>\n",
       "</table>\n",
       "</div>"
      ],
      "text/plain": [
       "   region_code            region_name\n",
       "0           61     Ростовская область\n",
       "1           72      Тюменская область\n",
       "2           34  Волгоградская область"
      ]
     },
     "execution_count": 15,
     "metadata": {},
     "output_type": "execute_result"
    }
   ],
   "source": [
    "region = psql.read_sql('SELECT * FROM region', conn)\n",
    "region.head(3)"
   ]
  },
  {
   "cell_type": "code",
   "execution_count": 16,
   "metadata": {},
   "outputs": [
    {
     "name": "stdout",
     "output_type": "stream",
     "text": [
      "   index  dev_region_code\n",
      "0     77              430\n",
      "1     50              263\n",
      "2     23              232\n",
      "3     78              226\n",
      "4     54              176\n",
      "5      2              148\n",
      "6     66              131\n",
      "7     16              110\n",
      "8     39              106\n",
      "9     61               99\n"
     ]
    }
   ],
   "source": [
    "ten_regions_devs = reestr['dev_region_code'].value_counts()\n",
    "ten_regions_devs = ten_regions_devs[:10]\n",
    "ten_regions_devs = ten_regions_devs.reset_index()\n",
    "\n",
    "print(ten_regions_devs)"
   ]
  },
  {
   "cell_type": "code",
   "execution_count": 17,
   "metadata": {},
   "outputs": [
    {
     "data": {
      "text/html": [
       "<div>\n",
       "<style scoped>\n",
       "    .dataframe tbody tr th:only-of-type {\n",
       "        vertical-align: middle;\n",
       "    }\n",
       "\n",
       "    .dataframe tbody tr th {\n",
       "        vertical-align: top;\n",
       "    }\n",
       "\n",
       "    .dataframe thead th {\n",
       "        text-align: right;\n",
       "    }\n",
       "</style>\n",
       "<table border=\"1\" class=\"dataframe\">\n",
       "  <thead>\n",
       "    <tr style=\"text-align: right;\">\n",
       "      <th></th>\n",
       "      <th>index</th>\n",
       "      <th>dev_region_code</th>\n",
       "      <th>region_name</th>\n",
       "    </tr>\n",
       "  </thead>\n",
       "  <tbody>\n",
       "    <tr>\n",
       "      <th>0</th>\n",
       "      <td>77</td>\n",
       "      <td>430</td>\n",
       "      <td>Москва город</td>\n",
       "    </tr>\n",
       "    <tr>\n",
       "      <th>1</th>\n",
       "      <td>50</td>\n",
       "      <td>263</td>\n",
       "      <td>Московская область</td>\n",
       "    </tr>\n",
       "    <tr>\n",
       "      <th>2</th>\n",
       "      <td>23</td>\n",
       "      <td>232</td>\n",
       "      <td>Краснодарский край</td>\n",
       "    </tr>\n",
       "    <tr>\n",
       "      <th>3</th>\n",
       "      <td>78</td>\n",
       "      <td>226</td>\n",
       "      <td>Санкт-Петербург город</td>\n",
       "    </tr>\n",
       "    <tr>\n",
       "      <th>4</th>\n",
       "      <td>54</td>\n",
       "      <td>176</td>\n",
       "      <td>Новосибирская область</td>\n",
       "    </tr>\n",
       "    <tr>\n",
       "      <th>5</th>\n",
       "      <td>2</td>\n",
       "      <td>148</td>\n",
       "      <td>Башкортостан Республика</td>\n",
       "    </tr>\n",
       "    <tr>\n",
       "      <th>6</th>\n",
       "      <td>66</td>\n",
       "      <td>131</td>\n",
       "      <td>Свердловская область</td>\n",
       "    </tr>\n",
       "    <tr>\n",
       "      <th>7</th>\n",
       "      <td>16</td>\n",
       "      <td>110</td>\n",
       "      <td>Татарстан Республика</td>\n",
       "    </tr>\n",
       "    <tr>\n",
       "      <th>8</th>\n",
       "      <td>39</td>\n",
       "      <td>106</td>\n",
       "      <td>Калининградская область</td>\n",
       "    </tr>\n",
       "    <tr>\n",
       "      <th>9</th>\n",
       "      <td>61</td>\n",
       "      <td>99</td>\n",
       "      <td>Ростовская область</td>\n",
       "    </tr>\n",
       "  </tbody>\n",
       "</table>\n",
       "</div>"
      ],
      "text/plain": [
       "   index  dev_region_code              region_name\n",
       "0     77              430             Москва город\n",
       "1     50              263       Московская область\n",
       "2     23              232       Краснодарский край\n",
       "3     78              226    Санкт-Петербург город\n",
       "4     54              176    Новосибирская область\n",
       "5      2              148  Башкортостан Республика\n",
       "6     66              131     Свердловская область\n",
       "7     16              110     Татарстан Республика\n",
       "8     39              106  Калининградская область\n",
       "9     61               99       Ростовская область"
      ]
     },
     "execution_count": 17,
     "metadata": {},
     "output_type": "execute_result"
    }
   ],
   "source": [
    "ten_regions_devs.join(region.set_index('region_code'), on='index')"
   ]
  },
  {
   "cell_type": "markdown",
   "metadata": {},
   "source": [
    "Как видно, наибольшее количество застройщиков отвечает за Москву, Московскую область, Краснодарский край и Санкт-Петербург."
   ]
  },
  {
   "cell_type": "markdown",
   "metadata": {},
   "source": [
    "### Создание и тестирование моделей\n",
    "Теперь попробуем создать модель линейной регрессии, которая будет предсказывать общую площадь объекта на основе имеющихся метрик.\n",
    "\n",
    "Предварительно присоединим к итоговой таблице количество построенных объектов."
   ]
  },
  {
   "cell_type": "code",
   "execution_count": 18,
   "metadata": {},
   "outputs": [
    {
     "data": {
      "text/html": [
       "<div>\n",
       "<style scoped>\n",
       "    .dataframe tbody tr th:only-of-type {\n",
       "        vertical-align: middle;\n",
       "    }\n",
       "\n",
       "    .dataframe tbody tr th {\n",
       "        vertical-align: top;\n",
       "    }\n",
       "\n",
       "    .dataframe thead th {\n",
       "        text-align: right;\n",
       "    }\n",
       "</style>\n",
       "<table border=\"1\" class=\"dataframe\">\n",
       "  <thead>\n",
       "    <tr style=\"text-align: right;\">\n",
       "      <th></th>\n",
       "      <th>obj_id</th>\n",
       "      <th>dev_id</th>\n",
       "      <th>obj_addr</th>\n",
       "      <th>obj_floor_min</th>\n",
       "      <th>obj_floor_max</th>\n",
       "      <th>obj_completion_date</th>\n",
       "      <th>objsquareliving</th>\n",
       "      <th>latitude</th>\n",
       "      <th>longitude</th>\n",
       "      <th>build_type</th>\n",
       "      <th>dev_short_name</th>\n",
       "      <th>build_obj</th>\n",
       "      <th>comiss_obj</th>\n",
       "      <th>dev_site</th>\n",
       "      <th>dev_fact_addr</th>\n",
       "      <th>dev_region_code</th>\n",
       "    </tr>\n",
       "  </thead>\n",
       "  <tbody>\n",
       "    <tr>\n",
       "      <th>0</th>\n",
       "      <td>13383</td>\n",
       "      <td>306</td>\n",
       "      <td>г Тюмень</td>\n",
       "      <td>4</td>\n",
       "      <td>20</td>\n",
       "      <td>2022-12-31</td>\n",
       "      <td>6293.78</td>\n",
       "      <td>57.1519</td>\n",
       "      <td>65.5536</td>\n",
       "      <td>Жилое</td>\n",
       "      <td>2МЕН ГРУПП</td>\n",
       "      <td>5</td>\n",
       "      <td>0</td>\n",
       "      <td>2mengroup.ru</td>\n",
       "      <td>Тюменская область, город Тюмень, улица Комсомо...</td>\n",
       "      <td>72</td>\n",
       "    </tr>\n",
       "    <tr>\n",
       "      <th>1</th>\n",
       "      <td>13397</td>\n",
       "      <td>306</td>\n",
       "      <td>г Тюмень, ул Профсоюзная, д. 56</td>\n",
       "      <td>6</td>\n",
       "      <td>12</td>\n",
       "      <td>2024-12-31</td>\n",
       "      <td>6248.51</td>\n",
       "      <td>57.1519</td>\n",
       "      <td>65.5544</td>\n",
       "      <td>Жилое</td>\n",
       "      <td>2МЕН ГРУПП</td>\n",
       "      <td>5</td>\n",
       "      <td>0</td>\n",
       "      <td>2mengroup.ru</td>\n",
       "      <td>Тюменская область, город Тюмень, улица Комсомо...</td>\n",
       "      <td>72</td>\n",
       "    </tr>\n",
       "    <tr>\n",
       "      <th>2</th>\n",
       "      <td>13399</td>\n",
       "      <td>306</td>\n",
       "      <td>г Тюмень, ул Профсоюзная, д. 56</td>\n",
       "      <td>1</td>\n",
       "      <td>1</td>\n",
       "      <td>2024-12-31</td>\n",
       "      <td>0.00</td>\n",
       "      <td>57.1519</td>\n",
       "      <td>65.5544</td>\n",
       "      <td>Нежилое</td>\n",
       "      <td>2МЕН ГРУПП</td>\n",
       "      <td>5</td>\n",
       "      <td>0</td>\n",
       "      <td>2mengroup.ru</td>\n",
       "      <td>Тюменская область, город Тюмень, улица Комсомо...</td>\n",
       "      <td>72</td>\n",
       "    </tr>\n",
       "  </tbody>\n",
       "</table>\n",
       "</div>"
      ],
      "text/plain": [
       "   obj_id  dev_id                         obj_addr  obj_floor_min  \\\n",
       "0   13383     306                         г Тюмень              4   \n",
       "1   13397     306  г Тюмень, ул Профсоюзная, д. 56              6   \n",
       "2   13399     306  г Тюмень, ул Профсоюзная, д. 56              1   \n",
       "\n",
       "   obj_floor_max obj_completion_date  objsquareliving  latitude  longitude  \\\n",
       "0             20          2022-12-31          6293.78   57.1519    65.5536   \n",
       "1             12          2024-12-31          6248.51   57.1519    65.5544   \n",
       "2              1          2024-12-31             0.00   57.1519    65.5544   \n",
       "\n",
       "  build_type dev_short_name  build_obj  comiss_obj      dev_site  \\\n",
       "0      Жилое     2МЕН ГРУПП          5           0  2mengroup.ru   \n",
       "1      Жилое     2МЕН ГРУПП          5           0  2mengroup.ru   \n",
       "2    Нежилое     2МЕН ГРУПП          5           0  2mengroup.ru   \n",
       "\n",
       "                                       dev_fact_addr  dev_region_code  \n",
       "0  Тюменская область, город Тюмень, улица Комсомо...               72  \n",
       "1  Тюменская область, город Тюмень, улица Комсомо...               72  \n",
       "2  Тюменская область, город Тюмень, улица Комсомо...               72  "
      ]
     },
     "execution_count": 18,
     "metadata": {},
     "output_type": "execute_result"
    }
   ],
   "source": [
    "new_buildings = new_buildings.join(reestr.set_index('dev_id'), on='dev_id')\n",
    "new_buildings.head(3)"
   ]
  },
  {
   "cell_type": "code",
   "execution_count": 19,
   "metadata": {},
   "outputs": [
    {
     "data": {
      "text/html": [
       "<div>\n",
       "<style scoped>\n",
       "    .dataframe tbody tr th:only-of-type {\n",
       "        vertical-align: middle;\n",
       "    }\n",
       "\n",
       "    .dataframe tbody tr th {\n",
       "        vertical-align: top;\n",
       "    }\n",
       "\n",
       "    .dataframe thead th {\n",
       "        text-align: right;\n",
       "    }\n",
       "</style>\n",
       "<table border=\"1\" class=\"dataframe\">\n",
       "  <thead>\n",
       "    <tr style=\"text-align: right;\">\n",
       "      <th></th>\n",
       "      <th>obj_floor_min</th>\n",
       "      <th>obj_floor_max</th>\n",
       "      <th>objsquareliving</th>\n",
       "      <th>latitude</th>\n",
       "      <th>longitude</th>\n",
       "      <th>build_type</th>\n",
       "      <th>build_obj</th>\n",
       "      <th>comiss_obj</th>\n",
       "    </tr>\n",
       "  </thead>\n",
       "  <tbody>\n",
       "    <tr>\n",
       "      <th>0</th>\n",
       "      <td>4</td>\n",
       "      <td>20</td>\n",
       "      <td>6293.78</td>\n",
       "      <td>57.1519</td>\n",
       "      <td>65.5536</td>\n",
       "      <td>Жилое</td>\n",
       "      <td>5</td>\n",
       "      <td>0</td>\n",
       "    </tr>\n",
       "    <tr>\n",
       "      <th>1</th>\n",
       "      <td>6</td>\n",
       "      <td>12</td>\n",
       "      <td>6248.51</td>\n",
       "      <td>57.1519</td>\n",
       "      <td>65.5544</td>\n",
       "      <td>Жилое</td>\n",
       "      <td>5</td>\n",
       "      <td>0</td>\n",
       "    </tr>\n",
       "    <tr>\n",
       "      <th>2</th>\n",
       "      <td>1</td>\n",
       "      <td>1</td>\n",
       "      <td>0.00</td>\n",
       "      <td>57.1519</td>\n",
       "      <td>65.5544</td>\n",
       "      <td>Нежилое</td>\n",
       "      <td>5</td>\n",
       "      <td>0</td>\n",
       "    </tr>\n",
       "  </tbody>\n",
       "</table>\n",
       "</div>"
      ],
      "text/plain": [
       "   obj_floor_min  obj_floor_max  objsquareliving  latitude  longitude  \\\n",
       "0              4             20          6293.78   57.1519    65.5536   \n",
       "1              6             12          6248.51   57.1519    65.5544   \n",
       "2              1              1             0.00   57.1519    65.5544   \n",
       "\n",
       "  build_type  build_obj  comiss_obj  \n",
       "0      Жилое          5           0  \n",
       "1      Жилое          5           0  \n",
       "2    Нежилое          5           0  "
      ]
     },
     "execution_count": 19,
     "metadata": {},
     "output_type": "execute_result"
    }
   ],
   "source": [
    "# Удалим лишние колонки\n",
    "new_buildings.drop(['obj_id', 'dev_id', 'obj_addr', 'obj_completion_date',\n",
    "                    'dev_site', 'dev_fact_addr', 'dev_short_name', 'dev_region_code'], axis=1, inplace=True)\n",
    "new_buildings.head(3)"
   ]
  },
  {
   "cell_type": "code",
   "execution_count": 20,
   "metadata": {},
   "outputs": [
    {
     "data": {
      "text/html": [
       "<div>\n",
       "<style scoped>\n",
       "    .dataframe tbody tr th:only-of-type {\n",
       "        vertical-align: middle;\n",
       "    }\n",
       "\n",
       "    .dataframe tbody tr th {\n",
       "        vertical-align: top;\n",
       "    }\n",
       "\n",
       "    .dataframe thead th {\n",
       "        text-align: right;\n",
       "    }\n",
       "</style>\n",
       "<table border=\"1\" class=\"dataframe\">\n",
       "  <thead>\n",
       "    <tr style=\"text-align: right;\">\n",
       "      <th></th>\n",
       "      <th>obj_floor_min</th>\n",
       "      <th>obj_floor_max</th>\n",
       "      <th>objsquareliving</th>\n",
       "      <th>latitude</th>\n",
       "      <th>longitude</th>\n",
       "      <th>build_obj</th>\n",
       "      <th>comiss_obj</th>\n",
       "      <th>build_type_Нежилое</th>\n",
       "    </tr>\n",
       "  </thead>\n",
       "  <tbody>\n",
       "    <tr>\n",
       "      <th>0</th>\n",
       "      <td>4</td>\n",
       "      <td>20</td>\n",
       "      <td>6293.78</td>\n",
       "      <td>57.1519</td>\n",
       "      <td>65.5536</td>\n",
       "      <td>5</td>\n",
       "      <td>0</td>\n",
       "      <td>0</td>\n",
       "    </tr>\n",
       "    <tr>\n",
       "      <th>1</th>\n",
       "      <td>6</td>\n",
       "      <td>12</td>\n",
       "      <td>6248.51</td>\n",
       "      <td>57.1519</td>\n",
       "      <td>65.5544</td>\n",
       "      <td>5</td>\n",
       "      <td>0</td>\n",
       "      <td>0</td>\n",
       "    </tr>\n",
       "    <tr>\n",
       "      <th>2</th>\n",
       "      <td>1</td>\n",
       "      <td>1</td>\n",
       "      <td>0.00</td>\n",
       "      <td>57.1519</td>\n",
       "      <td>65.5544</td>\n",
       "      <td>5</td>\n",
       "      <td>0</td>\n",
       "      <td>1</td>\n",
       "    </tr>\n",
       "  </tbody>\n",
       "</table>\n",
       "</div>"
      ],
      "text/plain": [
       "   obj_floor_min  obj_floor_max  objsquareliving  latitude  longitude  \\\n",
       "0              4             20          6293.78   57.1519    65.5536   \n",
       "1              6             12          6248.51   57.1519    65.5544   \n",
       "2              1              1             0.00   57.1519    65.5544   \n",
       "\n",
       "   build_obj  comiss_obj  build_type_Нежилое  \n",
       "0          5           0                   0  \n",
       "1          5           0                   0  \n",
       "2          5           0                   1  "
      ]
     },
     "execution_count": 20,
     "metadata": {},
     "output_type": "execute_result"
    }
   ],
   "source": [
    "new_buildings = pd.get_dummies(new_buildings, columns=['build_type'], drop_first=True)\n",
    "new_buildings.head(3)"
   ]
  },
  {
   "cell_type": "markdown",
   "metadata": {},
   "source": [
    "Повторно посмотрим на корреляции."
   ]
  },
  {
   "cell_type": "code",
   "execution_count": 21,
   "metadata": {},
   "outputs": [
    {
     "data": {
      "text/plain": [
       "<matplotlib.axes._subplots.AxesSubplot at 0x1c2d0ef6d08>"
      ]
     },
     "execution_count": 21,
     "metadata": {},
     "output_type": "execute_result"
    },
    {
     "data": {
      "image/png": "[encoded data removed]",
      "text/plain": [
       "<Figure size 792x504 with 2 Axes>"
      ]
     },
     "metadata": {
      "needs_background": "light"
     },
     "output_type": "display_data"
    }
   ],
   "source": [
    "heatmap(new_buildings.corr(), annot=True)"
   ]
  },
  {
   "cell_type": "markdown",
   "metadata": {},
   "source": [
    "Новых зависимостей не было выявлено, поэтому спокойно разделяем датасет на тренировочное и тестовое множества."
   ]
  },
  {
   "cell_type": "code",
   "execution_count": 22,
   "metadata": {},
   "outputs": [],
   "source": [
    "Y = new_buildings.objsquareliving\n",
    "X = new_buildings.drop(['objsquareliving'], axis=1)"
   ]
  },
  {
   "cell_type": "code",
   "execution_count": 23,
   "metadata": {},
   "outputs": [],
   "source": [
    "# Тренировочный и тестовый наборы\n",
    "seed = 12\n",
    "\n",
    "X_train, X_test, Y_train, Y_test = train_test_split(X, Y,\n",
    "                                                    test_size=0.2,\n",
    "                                                    random_state=seed,\n",
    "                                                    shuffle=True)"
   ]
  },
  {
   "cell_type": "code",
   "execution_count": 24,
   "metadata": {},
   "outputs": [
    {
     "name": "stdout",
     "output_type": "stream",
     "text": [
      "R2 на тестовом наборе: 0.45444\n",
      "MAE на тестовом наборе: 4867.16022\n"
     ]
    }
   ],
   "source": [
    "linear_reg = LinearRegression()\n",
    "linear_reg.fit(X_train, Y_train)\n",
    "\n",
    "prediction_1 = linear_reg.predict(X_test)\n",
    "MAE_1 = mean_absolute_error(Y_test, prediction_1)\n",
    "\n",
    "print(\"R2 на тестовом наборе: %0.5f\" % linear_reg.score(X_test, Y_test))\n",
    "print(\"MAE на тестовом наборе: %0.5f\" % MAE_1)"
   ]
  },
  {
   "cell_type": "code",
   "execution_count": 25,
   "metadata": {},
   "outputs": [
    {
     "name": "stdout",
     "output_type": "stream",
     "text": [
      "Среднее значение R2 для линейной регрессии с применением кросс-валидации при 3 : 0.47500\n",
      "Среднее значение MAE для линейной регрессии с применением кросс-валидации при 3 : 4888.32953\n"
     ]
    }
   ],
   "source": [
    "k = 3\n",
    "cv_linear_reg = cross_validate(linear_reg, X, Y,\n",
    "                       cv = 5,\n",
    "                       scoring = ('r2', 'neg_mean_absolute_error'))\n",
    "\n",
    "\n",
    "print(\"Среднее значение R2 для линейной регрессии с применением кросс-валидации при\", k, \": %0.5f\" % cv_linear_reg['test_r2'].mean())\n",
    "print(\"Среднее значение MAE для линейной регрессии с применением кросс-валидации при\", k, \": %0.5f\" % -cv_linear_reg['test_neg_mean_absolute_error'].mean())"
   ]
  },
  {
   "cell_type": "markdown",
   "metadata": {},
   "source": [
    "Предполагается, что при изменении вида распределений ниже можно достичь лучшего предсказательного результата."
   ]
  },
  {
   "cell_type": "code",
   "execution_count": 26,
   "metadata": {},
   "outputs": [
    {
     "data": {
      "image/png": "[encoded data removed]",
      "text/plain": [
       "<Figure size 792x504 with 9 Axes>"
      ]
     },
     "metadata": {
      "needs_background": "light"
     },
     "output_type": "display_data"
    }
   ],
   "source": [
    "X_train.iloc[:, :].hist(bins=30, edgecolor=\"black\")\n",
    "plt.subplots_adjust(hspace=0.7, wspace=0.4)"
   ]
  }
 ],
 "metadata": {
  "kernelspec": {
   "display_name": "Python 3",
   "language": "python",
   "name": "python3"
  },
  "language_info": {
   "codemirror_mode": {
    "name": "ipython",
    "version": 3
   },
   "file_extension": ".py",
   "mimetype": "text/x-python",
   "name": "python",
   "nbconvert_exporter": "python",
   "pygments_lexer": "ipython3",
   "version": "3.7.6"
  }
 },
 "nbformat": 4,
 "nbformat_minor": 4
}
